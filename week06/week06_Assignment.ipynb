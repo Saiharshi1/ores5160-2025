{
  "nbformat": 4,
  "nbformat_minor": 0,
  "metadata": {
    "colab": {
      "provenance": [],
      "include_colab_link": true
    },
    "kernelspec": {
      "name": "python3",
      "display_name": "Python 3"
    },
    "language_info": {
      "name": "python"
    }
  },
  "cells": [
    {
      "cell_type": "markdown",
      "metadata": {
        "id": "view-in-github",
        "colab_type": "text"
      },
      "source": [
        "<a href=\"https://colab.research.google.com/github/Saiharshi1/ores5160-2025/blob/main/week06/week06_Assignment.ipynb\" target=\"_parent\"><img src=\"https://colab.research.google.com/assets/colab-badge.svg\" alt=\"Open In Colab\"/></a>"
      ]
    },
    {
      "cell_type": "code",
      "execution_count": 1,
      "metadata": {
        "id": "oQ8VIGdwtyt9"
      },
      "outputs": [],
      "source": [
        "table01 = [\n",
        "    {\"Interaction ID\": 10114, \"Customer ID\": 524, \"Customer Name\": \"Bob Smith\", \"Customer Address\": \"121 abc\",\n",
        "     \"Customer Phone\": \"1111111111\", \"Desk Staff ID\": 48, \"Desk Staff Name\": \"Sam G\", \"Timestamp\": \"20210202 0400 UTC\", \"Shift\": 3},\n",
        "    {\"Interaction ID\": 10115, \"Customer ID\": 127, \"Customer Name\": \"Xi Huan\", \"Customer Address\": \"1411 xyz\",\n",
        "     \"Customer Phone\": \"2112111111\", \"Desk Staff ID\": 48, \"Desk Staff Name\": \"Sam G\", \"Timestamp\": \"20210202 0412 UTC\", \"Shift\": 3},\n",
        "    {\"Interaction ID\": 10116, \"Customer ID\": 127, \"Customer Name\": \"Xi Huan\", \"Customer Address\": \"1411 xyz\",\n",
        "     \"Customer Phone\": \"2112111111\", \"Desk Staff ID\": 17, \"Desk Staff Name\": \"Mia Ol\", \"Timestamp\": \"20210202 0621 UTC\", \"Shift\": 1},\n",
        "    {\"Interaction ID\": 10117, \"Customer ID\": 421, \"Customer Name\": \"Sri Lahk\", \"Customer Address\": \"13 ghi\",\n",
        "     \"Customer Phone\": \"110111211\", \"Desk Staff ID\": 17, \"Desk Staff Name\": \"Mia Ol\", \"Timestamp\": \"20210202 0711 UTC\", \"Shift\": 1},\n",
        "    {\"Interaction ID\": 10118, \"Customer ID\": 524, \"Customer Name\": \"Bob Smith\", \"Customer Address\": \"121 abc\",\n",
        "     \"Customer Phone\": \"1111111111\", \"Desk Staff ID\": 32, \"Desk Staff Name\": \"Jose Pr\", \"Timestamp\": \"20210202 0932 UTC\", \"Shift\": 1},\n",
        "]"
      ]
    },
    {
      "cell_type": "markdown",
      "source": [
        "Q1. SELECT * FROM table01 WHERE Desk Staff ID = 17\n"
      ],
      "metadata": {
        "id": "SIDHE8ih-N37"
      }
    },
    {
      "cell_type": "code",
      "source": [
        "for row in table01:\n",
        "  if row[\"Desk Staff ID\"] == 17:\n",
        "    print(row)"
      ],
      "metadata": {
        "id": "CSYbKbSIBstM",
        "outputId": "bdd66e70-3647-4fdc-9039-76e64f5dc423",
        "colab": {
          "base_uri": "https://localhost:8080/"
        }
      },
      "execution_count": 2,
      "outputs": [
        {
          "output_type": "stream",
          "name": "stdout",
          "text": [
            "{'Interaction ID': 10116, 'Customer ID': 127, 'Customer Name': 'Xi Huan', 'Customer Address': '1411 xyz', 'Customer Phone': '2112111111', 'Desk Staff ID': 17, 'Desk Staff Name': 'Mia Ol', 'Timestamp': '20210202 0621 UTC', 'Shift': 1}\n",
            "{'Interaction ID': 10117, 'Customer ID': 421, 'Customer Name': 'Sri Lahk', 'Customer Address': '13 ghi', 'Customer Phone': '110111211', 'Desk Staff ID': 17, 'Desk Staff Name': 'Mia Ol', 'Timestamp': '20210202 0711 UTC', 'Shift': 1}\n"
          ]
        }
      ]
    },
    {
      "cell_type": "markdown",
      "source": [
        "Q2: SELECT * FROM table WHERE Desk Staff ID = 17 AND Customer ID = 127"
      ],
      "metadata": {
        "id": "jndf8cDa-ZaR"
      }
    },
    {
      "cell_type": "code",
      "source": [
        "for row in table01:\n",
        "  if row[\"Desk Staff ID\"] == 17 and row[\"Customer ID\"] == 127:\n",
        "    print(row)"
      ],
      "metadata": {
        "colab": {
          "base_uri": "https://localhost:8080/"
        },
        "id": "3T9ZwQZHG-Bo",
        "outputId": "813f714d-b771-435b-e435-33da6515281e"
      },
      "execution_count": 3,
      "outputs": [
        {
          "output_type": "stream",
          "name": "stdout",
          "text": [
            "{'Interaction ID': 10116, 'Customer ID': 127, 'Customer Name': 'Xi Huan', 'Customer Address': '1411 xyz', 'Customer Phone': '2112111111', 'Desk Staff ID': 17, 'Desk Staff Name': 'Mia Ol', 'Timestamp': '20210202 0621 UTC', 'Shift': 1}\n"
          ]
        }
      ]
    },
    {
      "cell_type": "markdown",
      "source": [
        "Q3:SELECT * FROM table WHERE Desk Staff ID = 17 OR Customer ID = 127"
      ],
      "metadata": {
        "id": "AevNqk2a-tee"
      }
    },
    {
      "cell_type": "code",
      "source": [
        "for row in table01:\n",
        "  if row[\"Desk Staff ID\"] == 17 or row[\"Customer ID\"] == 127:\n",
        "    print(row)"
      ],
      "metadata": {
        "colab": {
          "base_uri": "https://localhost:8080/"
        },
        "id": "sSnNBXQyHH20",
        "outputId": "b4fc48a5-4d8c-4d29-8e26-1cfd2eec2c3f"
      },
      "execution_count": 4,
      "outputs": [
        {
          "output_type": "stream",
          "name": "stdout",
          "text": [
            "{'Interaction ID': 10115, 'Customer ID': 127, 'Customer Name': 'Xi Huan', 'Customer Address': '1411 xyz', 'Customer Phone': '2112111111', 'Desk Staff ID': 48, 'Desk Staff Name': 'Sam G', 'Timestamp': '20210202 0412 UTC', 'Shift': 3}\n",
            "{'Interaction ID': 10116, 'Customer ID': 127, 'Customer Name': 'Xi Huan', 'Customer Address': '1411 xyz', 'Customer Phone': '2112111111', 'Desk Staff ID': 17, 'Desk Staff Name': 'Mia Ol', 'Timestamp': '20210202 0621 UTC', 'Shift': 1}\n",
            "{'Interaction ID': 10117, 'Customer ID': 421, 'Customer Name': 'Sri Lahk', 'Customer Address': '13 ghi', 'Customer Phone': '110111211', 'Desk Staff ID': 17, 'Desk Staff Name': 'Mia Ol', 'Timestamp': '20210202 0711 UTC', 'Shift': 1}\n"
          ]
        }
      ]
    },
    {
      "cell_type": "markdown",
      "source": [
        "Q4: SELECT * FROM table WHERE NOT Desk Staff ID = 17 (HINT: use !=)"
      ],
      "metadata": {
        "id": "KDZu0U9P-gQ7"
      }
    },
    {
      "cell_type": "code",
      "source": [
        "for row in table01:\n",
        "  if row[\"Desk Staff ID\"] != 17:\n",
        "    print(row)"
      ],
      "metadata": {
        "colab": {
          "base_uri": "https://localhost:8080/"
        },
        "id": "BnG1LaXiHN2K",
        "outputId": "77cfb741-cdd7-49b0-c3e3-4f4a97963fa5"
      },
      "execution_count": 5,
      "outputs": [
        {
          "output_type": "stream",
          "name": "stdout",
          "text": [
            "{'Interaction ID': 10114, 'Customer ID': 524, 'Customer Name': 'Bob Smith', 'Customer Address': '121 abc', 'Customer Phone': '1111111111', 'Desk Staff ID': 48, 'Desk Staff Name': 'Sam G', 'Timestamp': '20210202 0400 UTC', 'Shift': 3}\n",
            "{'Interaction ID': 10115, 'Customer ID': 127, 'Customer Name': 'Xi Huan', 'Customer Address': '1411 xyz', 'Customer Phone': '2112111111', 'Desk Staff ID': 48, 'Desk Staff Name': 'Sam G', 'Timestamp': '20210202 0412 UTC', 'Shift': 3}\n",
            "{'Interaction ID': 10118, 'Customer ID': 524, 'Customer Name': 'Bob Smith', 'Customer Address': '121 abc', 'Customer Phone': '1111111111', 'Desk Staff ID': 32, 'Desk Staff Name': 'Jose Pr', 'Timestamp': '20210202 0932 UTC', 'Shift': 1}\n"
          ]
        }
      ]
    },
    {
      "cell_type": "markdown",
      "source": [
        "Q5:SELECT * FROM table WHERE Desk Staff ID = 17 and not Customer ID = 127"
      ],
      "metadata": {
        "id": "qkQczsCz_DMS"
      }
    },
    {
      "cell_type": "code",
      "source": [
        "for row in table01:\n",
        "  if row[\"Desk Staff ID\"] == 17 and row[\"Customer ID\"] != 127:\n",
        "    print(row)"
      ],
      "metadata": {
        "colab": {
          "base_uri": "https://localhost:8080/"
        },
        "id": "xeGUDJGxHWb5",
        "outputId": "2c7835c3-bf29-495d-877b-4dfab04dc12e"
      },
      "execution_count": 6,
      "outputs": [
        {
          "output_type": "stream",
          "name": "stdout",
          "text": [
            "{'Interaction ID': 10117, 'Customer ID': 421, 'Customer Name': 'Sri Lahk', 'Customer Address': '13 ghi', 'Customer Phone': '110111211', 'Desk Staff ID': 17, 'Desk Staff Name': 'Mia Ol', 'Timestamp': '20210202 0711 UTC', 'Shift': 1}\n"
          ]
        }
      ]
    },
    {
      "cell_type": "markdown",
      "source": [
        "Q6:SELECT * FROM table WHERE Desk Staff ID = 17 or not Customer ID = 127"
      ],
      "metadata": {
        "id": "eUgOYIzC_RF0"
      }
    },
    {
      "cell_type": "code",
      "source": [
        "for row in table01:\n",
        "  if row[\"Desk Staff ID\"] == 17 or row[\"Customer ID\"] != 127:\n",
        "    print(row)"
      ],
      "metadata": {
        "id": "yOhHfc_T_SCi",
        "colab": {
          "base_uri": "https://localhost:8080/"
        },
        "outputId": "de4cd738-906c-4d7e-d6e2-a52e2059b19e"
      },
      "execution_count": 7,
      "outputs": [
        {
          "output_type": "stream",
          "name": "stdout",
          "text": [
            "{'Interaction ID': 10114, 'Customer ID': 524, 'Customer Name': 'Bob Smith', 'Customer Address': '121 abc', 'Customer Phone': '1111111111', 'Desk Staff ID': 48, 'Desk Staff Name': 'Sam G', 'Timestamp': '20210202 0400 UTC', 'Shift': 3}\n",
            "{'Interaction ID': 10116, 'Customer ID': 127, 'Customer Name': 'Xi Huan', 'Customer Address': '1411 xyz', 'Customer Phone': '2112111111', 'Desk Staff ID': 17, 'Desk Staff Name': 'Mia Ol', 'Timestamp': '20210202 0621 UTC', 'Shift': 1}\n",
            "{'Interaction ID': 10117, 'Customer ID': 421, 'Customer Name': 'Sri Lahk', 'Customer Address': '13 ghi', 'Customer Phone': '110111211', 'Desk Staff ID': 17, 'Desk Staff Name': 'Mia Ol', 'Timestamp': '20210202 0711 UTC', 'Shift': 1}\n",
            "{'Interaction ID': 10118, 'Customer ID': 524, 'Customer Name': 'Bob Smith', 'Customer Address': '121 abc', 'Customer Phone': '1111111111', 'Desk Staff ID': 32, 'Desk Staff Name': 'Jose Pr', 'Timestamp': '20210202 0932 UTC', 'Shift': 1}\n"
          ]
        }
      ]
    }
  ]
}